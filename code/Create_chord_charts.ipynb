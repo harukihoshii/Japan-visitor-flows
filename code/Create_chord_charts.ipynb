{
 "cells": [
  {
   "cell_type": "code",
   "execution_count": null,
   "id": "aaa08faa-6ae9-4fd6-b5ef-09c724753560",
   "metadata": {},
   "outputs": [],
   "source": [
    "from d3blocks import D3Blocks\n",
    "import pandas as pd"
   ]
  },
  {
   "cell_type": "code",
   "execution_count": null,
   "id": "6607b6c2-24a2-4b69-98f7-7d1f82dfe364",
   "metadata": {},
   "outputs": [],
   "source": [
    "d3 = D3Blocks(chart='Chord', frame=False)"
   ]
  },
  {
   "cell_type": "code",
   "execution_count": null,
   "id": "d26be14b-a6b2-4ab9-ae2a-5e114a4e477a",
   "metadata": {},
   "outputs": [],
   "source": [
    "example_df = d3.import_example('energy')"
   ]
  },
  {
   "cell_type": "code",
   "execution_count": null,
   "id": "4bf3a58b-acbd-45e6-ab34-8dd5d951d82e",
   "metadata": {},
   "outputs": [],
   "source": [
    "df = pd.read_csv('../data/cleaned/MergedFlow_2014-2022.csv')\n",
    "pref = pd.read_csv('../data/cleaned/prefectures.csv')"
   ]
  },
  {
   "cell_type": "code",
   "execution_count": null,
   "id": "45e48bd1-ac25-46c9-9178-16c482811f86",
   "metadata": {},
   "outputs": [],
   "source": [
    "df2019.head()"
   ]
  },
  {
   "cell_type": "code",
   "execution_count": null,
   "id": "8ef69785-4b64-4dff-9760-7d23736e775e",
   "metadata": {},
   "outputs": [],
   "source": [
    "columns2019 = ['Origin_id', 'Destination_id', 'Flow2019']  \n",
    "df2019 = df[columns2019]"
   ]
  },
  {
   "cell_type": "code",
   "execution_count": null,
   "id": "217e059b-32da-4afd-879a-4f8b6c778558",
   "metadata": {},
   "outputs": [],
   "source": [
    "df2019 = df2019.rename(columns={'Flow2019': 'weight'})"
   ]
  },
  {
   "cell_type": "code",
   "execution_count": null,
   "id": "19fe7a8c-ba09-4a89-9dd3-ee91c2875dca",
   "metadata": {},
   "outputs": [],
   "source": [
    "df2019 = df2019.merge(pref, left_on='Origin_id', right_on='Origin_id', how='left').rename(columns={'nam': 'source'})\n",
    "\n",
    "df2019 = df2019.merge(pref, left_on='Destination_id', right_on='Origin_id', how='left').rename(columns={'nam': 'target'})"
   ]
  },
  {
   "cell_type": "code",
   "execution_count": null,
   "id": "3b30e614-0fcf-4a61-9280-7e40bf6b7d75",
   "metadata": {},
   "outputs": [],
   "source": [
    "df2019 = df2019.drop(columns=['Origin_id_x', 'Origin_id_y', 'Destination_id'])"
   ]
  },
  {
   "cell_type": "code",
   "execution_count": null,
   "id": "2232a056-0b97-450f-a981-687a2e029232",
   "metadata": {},
   "outputs": [],
   "source": [
    "df2019.head()"
   ]
  },
  {
   "cell_type": "code",
   "execution_count": null,
   "id": "dc1aa77b-c15d-4c8a-80f7-06ebd5e302f0",
   "metadata": {},
   "outputs": [],
   "source": [
    "df2019['weight'] = df2019['weight'] * 1000"
   ]
  },
  {
   "cell_type": "code",
   "execution_count": null,
   "id": "d40eeecf-7f08-4c85-91c5-fb898b3251b0",
   "metadata": {},
   "outputs": [],
   "source": [
    "d3.set_node_properties(df2019, opacity=0.7, cmap='tab20')\n",
    "d3.set_edge_properties(df2019, color='source', opacity='source')"
   ]
  },
  {
   "cell_type": "code",
   "execution_count": null,
   "id": "c0b131b2-8a38-4e5a-8409-78359aedc0ac",
   "metadata": {},
   "outputs": [],
   "source": [
    "d3.show()"
   ]
  },
  {
   "cell_type": "code",
   "execution_count": null,
   "id": "ef949e32-1f3a-4776-a7c7-6ad99284d8a3",
   "metadata": {},
   "outputs": [],
   "source": [
    "df2019.to_csv('../data/cleaned/od_flow2019_viz.csv')"
   ]
  }
 ],
 "metadata": {
  "kernelspec": {
   "display_name": "Python (chordvenv)",
   "language": "python",
   "name": ".chordvenv"
  },
  "language_info": {
   "codemirror_mode": {
    "name": "ipython",
    "version": 3
   },
   "file_extension": ".py",
   "mimetype": "text/x-python",
   "name": "python",
   "nbconvert_exporter": "python",
   "pygments_lexer": "ipython3",
   "version": "3.12.8"
  }
 },
 "nbformat": 4,
 "nbformat_minor": 5
}
