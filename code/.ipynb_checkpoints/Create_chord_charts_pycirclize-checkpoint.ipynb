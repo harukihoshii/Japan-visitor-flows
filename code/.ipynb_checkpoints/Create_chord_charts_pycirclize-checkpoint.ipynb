{
 "cells": [
  {
   "cell_type": "code",
   "execution_count": null,
   "id": "aaa08faa-6ae9-4fd6-b5ef-09c724753560",
   "metadata": {},
   "outputs": [],
   "source": [
    "import pandas as pd\n",
    "import numpy as np\n",
    "from pycirclize import Circos\n",
    "from pycirclize.parser import Matrix\n",
    "from pycirclize import config\n",
    "from pycirclize.config import ann_adjust"
   ]
  },
  {
   "cell_type": "code",
   "execution_count": null,
   "id": "4bf3a58b-acbd-45e6-ab34-8dd5d951d82e",
   "metadata": {},
   "outputs": [],
   "source": [
    "df = pd.read_csv('../data/cleaned/MergedFlow_2014-2022.csv')\n",
    "pref = pd.read_csv('../data/cleaned/prefectures.csv')"
   ]
  },
  {
   "cell_type": "code",
   "execution_count": null,
   "id": "6124a565-00b8-4271-9364-bcf2190b1661",
   "metadata": {},
   "outputs": [],
   "source": [
    "df = df[(df['Origin_id'] != 99) & (df['Destination_id'] != 99)]"
   ]
  },
  {
   "cell_type": "code",
   "execution_count": null,
   "id": "45e48bd1-ac25-46c9-9178-16c482811f86",
   "metadata": {},
   "outputs": [],
   "source": [
    "df"
   ]
  },
  {
   "cell_type": "code",
   "execution_count": null,
   "id": "8ef69785-4b64-4dff-9760-7d23736e775e",
   "metadata": {},
   "outputs": [],
   "source": [
    "columns2019 = ['Origin_id', 'Destination_id', 'Flow2019']  # Replace with actual column names\n",
    "df2019 = df[columns2019]"
   ]
  },
  {
   "cell_type": "code",
   "execution_count": null,
   "id": "217e059b-32da-4afd-879a-4f8b6c778558",
   "metadata": {},
   "outputs": [],
   "source": [
    "df2019 = df2019.rename(columns={'Flow2019': 'value'})"
   ]
  },
  {
   "cell_type": "code",
   "execution_count": null,
   "id": "e09d0e2f-6eac-4594-b7c3-3a0fe05a04d7",
   "metadata": {},
   "outputs": [],
   "source": [
    "pref = pref.drop('nam', axis=1)"
   ]
  },
  {
   "cell_type": "code",
   "execution_count": null,
   "id": "19fe7a8c-ba09-4a89-9dd3-ee91c2875dca",
   "metadata": {},
   "outputs": [],
   "source": [
    "#Merge to replace 'source' with 'nam_jp'\n",
    "df2019 = df2019.merge(pref, left_on='Origin_id', right_on='Origin_id', how='left').rename(columns={'nam_jp': 'source'})\n",
    "\n",
    "#Merge to replace 'target' with 'nam_jp'\n",
    "df2019 = df2019.merge(pref, left_on='Destination_id', right_on='Origin_id', how='left').rename(columns={'nam_jp': 'target'})"
   ]
  },
  {
   "cell_type": "code",
   "execution_count": null,
   "id": "3b30e614-0fcf-4a61-9280-7e40bf6b7d75",
   "metadata": {},
   "outputs": [],
   "source": [
    "#Drop unnecessary columns\n",
    "df2019 = df2019.drop(columns=['Origin_id_x', 'Origin_id_y', 'Destination_id'])"
   ]
  },
  {
   "cell_type": "code",
   "execution_count": null,
   "id": "2232a056-0b97-450f-a981-687a2e029232",
   "metadata": {},
   "outputs": [],
   "source": [
    "df2019.head()"
   ]
  },
  {
   "cell_type": "code",
   "execution_count": null,
   "id": "dc1aa77b-c15d-4c8a-80f7-06ebd5e302f0",
   "metadata": {},
   "outputs": [],
   "source": [
    "df2019['value'] = df2019['value'] * 1000"
   ]
  },
  {
   "cell_type": "code",
   "execution_count": null,
   "id": "3711424e-90de-440d-867f-25b584d61e16",
   "metadata": {},
   "outputs": [],
   "source": [
    "df2019 = df2019[['source', 'target', 'value']]"
   ]
  },
  {
   "cell_type": "code",
   "execution_count": null,
   "id": "5f4a404a-886c-4c2b-89d0-ef9ba8f00067",
   "metadata": {},
   "outputs": [],
   "source": [
    "matrix = Matrix.parse_fromto_table(df2019)"
   ]
  },
  {
   "cell_type": "code",
   "execution_count": null,
   "id": "bd847cdb-c0c4-4300-9b27-6605f0e77fb0",
   "metadata": {},
   "outputs": [],
   "source": [
    "#Create sector names\n",
    "sectors = list(set(df2019[\"source\"]).union(set(df2019[\"target\"])))\n",
    "\n",
    "circos = Circos.chord_diagram(\n",
    "    matrix,\n",
    "    space=0.5,\n",
    "    cmap=\"tab20\",\n",
    "    link_kws=dict(direction=1, ec=\"white\", lw=0.05, alpha=0.7),\n",
    "    label_kws=dict(size=7, r=120, color=\"white\")\n",
    ")\n",
    "\n",
    "#Add annotations \n",
    "for sector in circos.sectors:\n",
    "    track = sector.add_track((95, 100))  \n",
    "    track.axis(fc=\"#EEEEEE\", ec=\"none\")\n",
    "    \n",
    "    # Use the middle of the sector for annotation placement\n",
    "    middle_pos = (sector.start + sector.end) / 2\n",
    "\n",
    "    #Annotate at the correct position\n",
    "    track.annotate(\n",
    "        middle_pos,  \n",
    "        sector.name,\n",
    "        label_size=7\n",
    "    )\n",
    "\n",
    "#Enable automatic annotation adjustment\n",
    "ann_adjust.enable = True\n",
    "\n",
    "fig = circos.plotfig()"
   ]
  },
  {
   "cell_type": "code",
   "execution_count": null,
   "id": "5db42a31-e4b5-4e9c-a2dc-f7232dc66ae8",
   "metadata": {},
   "outputs": [],
   "source": [
    "fig.savefig(\"../image/chord_flow_2019.png\")"
   ]
  }
 ],
 "metadata": {
  "kernelspec": {
   "display_name": "Python (chordvenv)",
   "language": "python",
   "name": ".chordvenv"
  },
  "language_info": {
   "codemirror_mode": {
    "name": "ipython",
    "version": 3
   },
   "file_extension": ".py",
   "mimetype": "text/x-python",
   "name": "python",
   "nbconvert_exporter": "python",
   "pygments_lexer": "ipython3",
   "version": "3.12.8"
  }
 },
 "nbformat": 4,
 "nbformat_minor": 5
}
