{
 "cells": [
  {
   "cell_type": "code",
   "execution_count": null,
   "id": "2c7a53be-7985-48e3-80c6-a423e62d27e9",
   "metadata": {},
   "outputs": [],
   "source": [
    "import os\n",
    "import numpy as np\n",
    "import pandas as pd"
   ]
  },
  {
   "cell_type": "code",
   "execution_count": null,
   "id": "257bd522-b1c2-4bd0-86f0-5c9d1ecccefe",
   "metadata": {},
   "outputs": [],
   "source": [
    "file_path = \"../data/cleaned/2017_flow_OD_cl.csv\"\n",
    "\n",
    "df = pd.read_csv(file_path)\n",
    "\n",
    "print(df.head())"
   ]
  },
  {
   "cell_type": "code",
   "execution_count": null,
   "id": "87d870e2-6655-4591-9f66-8b0ce55a56ed",
   "metadata": {},
   "outputs": [],
   "source": [
    "for col in df.columns:\n",
    "    if df[col].dtype == 'object': \n",
    "        df[col] = df[col].str.replace(',', '')  \n",
    "        \n",
    "        try:\n",
    "            df[col] = pd.to_numeric(df[col])\n",
    "        except ValueError:\n",
    "            pass"
   ]
  },
  {
   "cell_type": "code",
   "execution_count": null,
   "id": "15236b9e-2ca9-45b6-8d69-3a824166a7d1",
   "metadata": {},
   "outputs": [],
   "source": [
    "#data cleaning for 2014 - 2017\n",
    "df = df.iloc[:-1, :-1]\n",
    "df = df.drop(0)\n",
    "df = df.drop('Unnamed: 1', axis=1)"
   ]
  },
  {
   "cell_type": "code",
   "execution_count": null,
   "id": "eafbb6d2-a36a-4464-9bdf-6b6308375abd",
   "metadata": {},
   "outputs": [],
   "source": [
    "#data cleaning for 2018 - 2022\n",
    "df = df.iloc[:-2, :-2]\n",
    "df = df.drop(0)\n",
    "df = df.drop('Unnamed: 1', axis=1)\n",
    "#Remove columns&rows\n",
    "df = df.drop(df.columns[2:7], axis=1)\n",
    "df = df.drop(df.index[1:6], axis=0)"
   ]
  },
  {
   "cell_type": "code",
   "execution_count": null,
   "id": "f7cc19bb-5be8-4a84-a8d0-3fc83bc299b0",
   "metadata": {},
   "outputs": [],
   "source": [
    "df"
   ]
  },
  {
   "cell_type": "code",
   "execution_count": null,
   "id": "b39dbfd9-2f30-4658-a83a-7a547f77b1f1",
   "metadata": {},
   "outputs": [],
   "source": [
    "df.rename(columns={df.columns[0]: 'Origin_id'}, inplace=True) #rename origin column"
   ]
  },
  {
   "cell_type": "code",
   "execution_count": null,
   "id": "c5320ad6-f7f8-44e3-abfc-8411fae4e7fc",
   "metadata": {},
   "outputs": [],
   "source": [
    "df_long = pd.melt(df, id_vars='Origin_id', var_name='Destination_id', value_name='Flow2017')\n",
    "df_long"
   ]
  },
  {
   "cell_type": "code",
   "execution_count": null,
   "id": "9fb352d3-8697-4639-b7f2-995e164a2fcf",
   "metadata": {},
   "outputs": [],
   "source": [
    "#df_long[(df_long['Origin_id'] == '1') & (df_long['Destination_id'] == '2')]"
   ]
  },
  {
   "cell_type": "code",
   "execution_count": null,
   "id": "43818ca7-f0a1-4d0b-a614-a5de54a29e8e",
   "metadata": {},
   "outputs": [],
   "source": [
    "# Save the cleaned DataFrame to a new CSV file\n",
    "df_long.to_csv(\"../data/cleaned/flow_matrix_2017.csv\", index=False)"
   ]
  }
 ],
 "metadata": {
  "kernelspec": {
   "display_name": "Python (edavenv)",
   "language": "python",
   "name": "edavenv"
  },
  "language_info": {
   "codemirror_mode": {
    "name": "ipython",
    "version": 3
   },
   "file_extension": ".py",
   "mimetype": "text/x-python",
   "name": "python",
   "nbconvert_exporter": "python",
   "pygments_lexer": "ipython3",
   "version": "3.12.8"
  }
 },
 "nbformat": 4,
 "nbformat_minor": 5
}
