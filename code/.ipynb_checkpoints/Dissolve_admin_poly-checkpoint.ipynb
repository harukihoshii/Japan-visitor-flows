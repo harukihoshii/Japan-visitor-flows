{
 "cells": [
  {
   "cell_type": "code",
   "execution_count": null,
   "id": "ed405e9f-5934-4fbd-a2dd-b9d308f419b2",
   "metadata": {},
   "outputs": [],
   "source": [
    "import geopandas as gpd"
   ]
  },
  {
   "cell_type": "code",
   "execution_count": null,
   "id": "8994eda8-52d5-4a6f-b84e-1b19839db2d1",
   "metadata": {},
   "outputs": [],
   "source": [
    "input_shapefile = '../data/raw/gm-jpn-all_u_2_2/polbnda_jpn.shp'\n",
    "\n",
    "output_shapefile = '../data/cleaned/polbnda_jpn_dissolved.shp'\n",
    "\n",
    "gdf = gpd.read_file(input_shapefile)"
   ]
  },
  {
   "cell_type": "code",
   "execution_count": null,
   "id": "f7d91405-968a-4291-8fee-587bf4db4766",
   "metadata": {},
   "outputs": [],
   "source": [
    "gdf.head()"
   ]
  },
  {
   "cell_type": "code",
   "execution_count": null,
   "id": "8fb8cc23-59da-469c-8cef-16874a57551b",
   "metadata": {},
   "outputs": [],
   "source": [
    "#Dissolve the gdf by the 'nam' column\n",
    "dissolved_gdf = gdf.dissolve(by='nam')\n",
    "\n",
    "dissolved_gdf.to_file(output_shapefile)"
   ]
  }
 ],
 "metadata": {
  "kernelspec": {
   "display_name": "Python (geovenv)",
   "language": "python",
   "name": "geovenv"
  },
  "language_info": {
   "codemirror_mode": {
    "name": "ipython",
    "version": 3
   },
   "file_extension": ".py",
   "mimetype": "text/x-python",
   "name": "python",
   "nbconvert_exporter": "python",
   "pygments_lexer": "ipython3",
   "version": "3.12.8"
  }
 },
 "nbformat": 4,
 "nbformat_minor": 5
}
