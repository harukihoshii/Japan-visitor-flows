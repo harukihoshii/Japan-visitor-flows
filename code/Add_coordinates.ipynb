{
 "cells": [
  {
   "cell_type": "code",
   "execution_count": null,
   "id": "2fe36dd2-1a00-4bcc-8a68-d24604089226",
   "metadata": {},
   "outputs": [],
   "source": [
    "#packages install\n",
    "import geopandas as gpd\n",
    "import pandas as pd\n",
    "import json"
   ]
  },
  {
   "cell_type": "code",
   "execution_count": null,
   "id": "fdc92aeb-c1d3-4b3e-8ca4-a78270a0e10f",
   "metadata": {},
   "outputs": [],
   "source": [
    "#Load Prefecure layer\n",
    "pref_path = \"../data/cleaned/polbnda_jpn_dissolved_points.geojson\"\n",
    "\n",
    "pref_gdf = gpd.read_file(pref_path)"
   ]
  },
  {
   "cell_type": "code",
   "execution_count": null,
   "id": "4981ce19-31c6-4a02-a0e3-916f8d5b5018",
   "metadata": {},
   "outputs": [],
   "source": [
    "#Create x, y column\n",
    "pref_gdf['longitude'] = pref_gdf.geometry.x\n",
    "pref_gdf['latitude'] = pref_gdf.geometry.y"
   ]
  },
  {
   "cell_type": "code",
   "execution_count": null,
   "id": "908139f9-1c5a-4f0f-9be1-09a0dc06f18a",
   "metadata": {},
   "outputs": [],
   "source": [
    "pref_gdf.head()"
   ]
  },
  {
   "cell_type": "code",
   "execution_count": null,
   "id": "9918a3c0-3c96-41e5-a3bc-1ef5131d3bcc",
   "metadata": {},
   "outputs": [],
   "source": [
    "pref_gdf_selected = pref_gdf[['Origin_id', 'longitude', 'latitude']]"
   ]
  },
  {
   "cell_type": "code",
   "execution_count": null,
   "id": "012d5547-f03d-43d6-a932-510b3031f6f6",
   "metadata": {},
   "outputs": [],
   "source": [
    "#Load OD matrix csv\n",
    "flow_file = \"../data/cleaned/MergedFlow_2014-2022.csv\"\n",
    "\n",
    "df = pd.read_csv(flow_file)"
   ]
  },
  {
   "cell_type": "code",
   "execution_count": null,
   "id": "435562b0-4fe7-46de-942a-f78549e9f732",
   "metadata": {},
   "outputs": [],
   "source": [
    "df"
   ]
  },
  {
   "cell_type": "code",
   "execution_count": null,
   "id": "a3bae529-89a6-450d-9cee-24b5f12aad0a",
   "metadata": {},
   "outputs": [],
   "source": [
    "#Add column origX, OrigY\n",
    "merged = pd.merge(df, pref_gdf_selected, on = 'Origin_id', how = 'inner')\n",
    "merged.rename(columns={'latitude': 'origY', 'longitude': 'origX'}, inplace=True)"
   ]
  },
  {
   "cell_type": "code",
   "execution_count": null,
   "id": "2e81d302-4356-451f-979a-5842ed3b3043",
   "metadata": {},
   "outputs": [],
   "source": [
    "merged.info()"
   ]
  },
  {
   "cell_type": "code",
   "execution_count": null,
   "id": "ac4f5fc6-1c93-48d5-bd0d-e4cc04c142a1",
   "metadata": {},
   "outputs": [],
   "source": [
    "#destX, destY\n",
    "merged2 = pd.merge(merged, pref_gdf_selected, left_on = 'Destination_id', right_on = 'Origin_id', how = 'inner')\n",
    "merged2.rename(columns={'latitude': 'destY', 'longitude': 'destX'}, inplace=True)"
   ]
  },
  {
   "cell_type": "code",
   "execution_count": null,
   "id": "23d46430-dee2-4979-81d3-cd989bfbc831",
   "metadata": {},
   "outputs": [],
   "source": [
    "merged2"
   ]
  },
  {
   "cell_type": "code",
   "execution_count": null,
   "id": "6b0b3126-d7b8-461d-8654-9ef5845de974",
   "metadata": {},
   "outputs": [],
   "source": [
    "merged2 = merged2.drop(columns=['Origin_id_y'])"
   ]
  },
  {
   "cell_type": "code",
   "execution_count": null,
   "id": "a3e5dc03-cc93-4a08-b87f-0cdfea52431a",
   "metadata": {},
   "outputs": [],
   "source": [
    "merged2.rename(columns={'origin_id': 'Origin_id'}, inplace=True)"
   ]
  },
  {
   "cell_type": "code",
   "execution_count": null,
   "id": "1a77a7dd-bc2f-4d9e-9332-56d5ace8aff1",
   "metadata": {},
   "outputs": [],
   "source": [
    "#Transform\n",
    "output = []\n",
    "\n",
    "for _, row in merged2.iterrows():\n",
    "    transformed_row = {\n",
    "        \"origin_id\": int(row[\"Origin_id_x\"]),\n",
    "        \"destination_id\": int(row[\"Destination_id\"]),\n",
    "        \"origin_coordinates\": [row[\"origX\"], row[\"origY\"]],\n",
    "        \"destination_coordinates\": [row[\"destX\"], row[\"destY\"]],\n",
    "        \"flow2014\": float(row[\"Flow2014\"]),\n",
    "        \"flow2015\": float(row[\"Flow2015\"]),\n",
    "        \"flow2016\": float(row[\"Flow2016\"]),\n",
    "        \"flow2017\": float(row[\"Flow2017\"]),\n",
    "        \"flow2018\": float(row[\"Flow2018\"]),\n",
    "        \"flow2019\": float(row[\"Flow2019\"]),\n",
    "        \"flow2022\": float(row[\"Flow2022\"]),\n",
    "                      }\n",
    "    output.append(transformed_row)\n",
    "\n",
    "#Convert the result to JSON\n",
    "output_json = json.dumps(output, indent=2)"
   ]
  },
  {
   "cell_type": "code",
   "execution_count": null,
   "id": "2f4efbd7-0118-4e5d-b984-c0af0626f9c1",
   "metadata": {},
   "outputs": [],
   "source": [
    "#Create GeoJSON \n",
    "output_geojson = []\n",
    "\n",
    "for _, row in merged2.iterrows():\n",
    "    feature = {\n",
    "        \"type\": \"Feature\",\n",
    "        \"geometry\": {\n",
    "            \"type\": \"LineString\",\n",
    "            \"coordinates\": [\n",
    "                [row[\"origX\"], row[\"origY\"]],\n",
    "                [row[\"destX\"], row[\"destY\"]]\n",
    "            ]\n",
    "        },\n",
    "        \"properties\": {\n",
    "            \"origin_id\": int(row[\"Origin_id\"]),\n",
    "            \"destination_id\": int(row[\"Destination_id\"]),\n",
    "            \"flow2014\": float(row[\"Flow2014\"]),\n",
    "            \"flow2015\": float(row[\"Flow2015\"]),\n",
    "            \"flow2016\": float(row[\"Flow2016\"]),\n",
    "            \"flow2017\": float(row[\"Flow2017\"]),\n",
    "            \"flow2018\": float(row[\"Flow2018\"]),\n",
    "            \"flow2019\": float(row[\"Flow2019\"]),\n",
    "            \"flow2022\": float(row[\"Flow2022\"])\n",
    "        }\n",
    "    }\n",
    "    output_geojson.append(feature)\n",
    "\n",
    "#GeoJSON FeatureCollection\n",
    "geojson_output = {\n",
    "    \"type\": \"FeatureCollection\",\n",
    "    \"features\": output_geojson\n",
    "}\n",
    "\n",
    "#Convert the result to GeoJSON\n",
    "output_geojson_str = json.dumps(geojson_output, indent=2)\n",
    "\n",
    "print(output_geojson_str)"
   ]
  },
  {
   "cell_type": "code",
   "execution_count": null,
   "id": "a79402b3-dba0-4a8a-84f5-df6e23452029",
   "metadata": {},
   "outputs": [],
   "source": [
    "with open(\"../data/cleaned/od-flow-2014-2022.geojson\", \"w\") as f:\n",
    "    f.write(output_json)"
   ]
  },
  {
   "cell_type": "code",
   "execution_count": null,
   "id": "849c3637-103e-4895-b4ea-5e3e19880a37",
   "metadata": {},
   "outputs": [],
   "source": [
    "with open(\"../data/cleaned/od-flow-2014-2022.geojson\", \"w\") as f:\n",
    "    f.write(output_geojson_str)"
   ]
  }
 ],
 "metadata": {
  "kernelspec": {
   "display_name": "Python (geovenv)",
   "language": "python",
   "name": "geovenv"
  },
  "language_info": {
   "codemirror_mode": {
    "name": "ipython",
    "version": 3
   },
   "file_extension": ".py",
   "mimetype": "text/x-python",
   "name": "python",
   "nbconvert_exporter": "python",
   "pygments_lexer": "ipython3",
   "version": "3.12.8"
  }
 },
 "nbformat": 4,
 "nbformat_minor": 5
}
