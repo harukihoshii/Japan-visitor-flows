{
 "cells": [
  {
   "cell_type": "code",
   "execution_count": null,
   "id": "89932581-0b76-4699-9834-632bc1ba45ec",
   "metadata": {},
   "outputs": [],
   "source": [
    "import pandas as pd"
   ]
  },
  {
   "cell_type": "code",
   "execution_count": null,
   "id": "27838f50-77a9-42a1-b19f-a970adc25766",
   "metadata": {},
   "outputs": [],
   "source": [
    "files = ['../data/cleaned/flow_matrix_2014.csv', '../data/cleaned/flow_matrix_2015.csv', '../data/cleaned/flow_matrix_2016.csv', '../data/cleaned/flow_matrix_2017.csv', '../data/cleaned/flow_matrix_2018.csv', '../data/cleaned/flow_matrix_2019.csv']  # Exclude 2022 here\n",
    "main_file = '../data/cleaned/flow_matrix_2022.csv'  #The main file \n",
    "\n",
    "#Columns to select from each file\n",
    "columns_to_keep = ['Flow2014', 'Flow2015', 'Flow2016', 'Flow2017', 'Flow2018', 'Flow2019'] "
   ]
  },
  {
   "cell_type": "code",
   "execution_count": null,
   "id": "a51e8b5d-a7ff-49c5-aa5b-dc1af0fe77bd",
   "metadata": {},
   "outputs": [],
   "source": [
    "df_main = pd.read_csv(main_file)"
   ]
  },
  {
   "cell_type": "code",
   "execution_count": null,
   "id": "0e50db5b-2a4a-4a26-a470-49be02f05c39",
   "metadata": {},
   "outputs": [],
   "source": [
    "df_main"
   ]
  },
  {
   "cell_type": "code",
   "execution_count": null,
   "id": "de5321f5-108b-4805-80dc-42ba37522b5b",
   "metadata": {},
   "outputs": [],
   "source": [
    "#Iterate over the other files and merge specific columns with main\n",
    "for i, file in enumerate(files):\n",
    "    df = pd.read_csv(file, usecols=[columns_to_keep[i]])\n",
    "    \n",
    "    df_main = pd.concat([df_main, df], axis=1)"
   ]
  },
  {
   "cell_type": "code",
   "execution_count": null,
   "id": "a941fd9c-8457-41d3-b341-a5cdad82a67d",
   "metadata": {},
   "outputs": [],
   "source": [
    "df_main"
   ]
  },
  {
   "cell_type": "code",
   "execution_count": null,
   "id": "663c3710-3d89-41bf-bdee-24953f2c808d",
   "metadata": {},
   "outputs": [],
   "source": [
    "output_file = '../data/cleaned/MergedFlow_2014-2022.csv'\n",
    "df_main.to_csv(output_file, index=False)"
   ]
  },
  {
   "cell_type": "code",
   "execution_count": null,
   "id": "ad755e2b-db76-4ff4-b23b-36307d28fbd7",
   "metadata": {},
   "outputs": [],
   "source": [
    "df_main"
   ]
  }
 ],
 "metadata": {
  "kernelspec": {
   "display_name": "Python (geovenv)",
   "language": "python",
   "name": "geovenv"
  },
  "language_info": {
   "codemirror_mode": {
    "name": "ipython",
    "version": 3
   },
   "file_extension": ".py",
   "mimetype": "text/x-python",
   "name": "python",
   "nbconvert_exporter": "python",
   "pygments_lexer": "ipython3",
   "version": "3.12.8"
  }
 },
 "nbformat": 4,
 "nbformat_minor": 5
}
